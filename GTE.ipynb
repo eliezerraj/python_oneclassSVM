{
 "cells": [
  {
   "cell_type": "markdown",
   "metadata": {},
   "source": [
    "One Class SVM (detect Novelty patern)\n",
    "\n",
    "This approach is usual to detect rare events and is based the \"density estimation\" for the data. The Novelty corresponds the very low density samples"
   ]
  },
  {
   "cell_type": "code",
   "execution_count": 74,
   "metadata": {
    "collapsed": true
   },
   "outputs": [],
   "source": [
    "import pandas as pd \n",
    "import numpy as np \n",
    "import matplotlib.pyplot as plt \n",
    "\n",
    "from sklearn import svm"
   ]
  },
  {
   "cell_type": "code",
   "execution_count": 93,
   "metadata": {},
   "outputs": [
    {
     "name": "stdout",
     "output_type": "stream",
     "text": [
      "data :   (186, 5)\n"
     ]
    },
    {
     "data": {
      "text/html": [
       "<div>\n",
       "<style>\n",
       "    .dataframe thead tr:only-child th {\n",
       "        text-align: right;\n",
       "    }\n",
       "\n",
       "    .dataframe thead th {\n",
       "        text-align: left;\n",
       "    }\n",
       "\n",
       "    .dataframe tbody tr th {\n",
       "        vertical-align: top;\n",
       "    }\n",
       "</style>\n",
       "<table border=\"1\" class=\"dataframe\">\n",
       "  <thead>\n",
       "    <tr style=\"text-align: right;\">\n",
       "      <th></th>\n",
       "      <th>DT_REALIZ_VOO</th>\n",
       "      <th>COUNT</th>\n",
       "      <th>QT_PAX_CONEX_DOM</th>\n",
       "      <th>QT_PAX_CONEX_INT</th>\n",
       "      <th>QT_PAX_PAGANTE</th>\n",
       "    </tr>\n",
       "  </thead>\n",
       "  <tbody>\n",
       "    <tr>\n",
       "      <th>0</th>\n",
       "      <td>01/06/2018</td>\n",
       "      <td>536</td>\n",
       "      <td>8568</td>\n",
       "      <td>2049</td>\n",
       "      <td>47212</td>\n",
       "    </tr>\n",
       "    <tr>\n",
       "      <th>1</th>\n",
       "      <td>02/06/2018</td>\n",
       "      <td>393</td>\n",
       "      <td>5087</td>\n",
       "      <td>2081</td>\n",
       "      <td>36401</td>\n",
       "    </tr>\n",
       "    <tr>\n",
       "      <th>2</th>\n",
       "      <td>03/06/2018</td>\n",
       "      <td>575</td>\n",
       "      <td>5962</td>\n",
       "      <td>2147</td>\n",
       "      <td>63133</td>\n",
       "    </tr>\n",
       "  </tbody>\n",
       "</table>\n",
       "</div>"
      ],
      "text/plain": [
       "  DT_REALIZ_VOO  COUNT  QT_PAX_CONEX_DOM  QT_PAX_CONEX_INT  QT_PAX_PAGANTE\n",
       "0    01/06/2018    536              8568              2049           47212\n",
       "1    02/06/2018    393              5087              2081           36401\n",
       "2    03/06/2018    575              5962              2147           63133"
      ]
     },
     "execution_count": 93,
     "metadata": {},
     "output_type": "execute_result"
    }
   ],
   "source": [
    "# Load data from csv\n",
    "file_path_1 = \"./\"\n",
    "name_of_file_read = \"gte01.csv\" \n",
    "\n",
    "file_to_ready = file_path_1 + name_of_file_read\n",
    "\n",
    "# read and show the raw data\n",
    "data = pd.read_csv( file_to_ready, parse_dates=True)\n",
    "print(\"data :  \", data.shape)\n",
    "data.head(3)"
   ]
  },
  {
   "cell_type": "code",
   "execution_count": 76,
   "metadata": {},
   "outputs": [
    {
     "data": {
      "image/png": "[encoded data removed]",
      "text/plain": [
       "<Figure size 432x288 with 1 Axes>"
      ]
     },
     "metadata": {},
     "output_type": "display_data"
    }
   ],
   "source": [
    "plt.figure()\n",
    "plt.ylabel(\"Pagantes\")\n",
    "plt.xlabel(\"Qtd Voos\")\n",
    "plt.plot(data.COUNT,data.QT_PAX_PAGANTE,\"bx\")\n",
    "plt.show()"
   ]
  },
  {
   "cell_type": "code",
   "execution_count": 91,
   "metadata": {},
   "outputs": [
    {
     "data": {
      "text/plain": [
       "OneClassSVM(cache_size=200, coef0=0.0, degree=3, gamma=0.1, kernel='rbf',\n",
       "      max_iter=-1, nu=0.1, random_state=None, shrinking=True, tol=0.001,\n",
       "      verbose=False)"
      ]
     },
     "execution_count": 91,
     "metadata": {},
     "output_type": "execute_result"
    }
   ],
   "source": [
    "data_svm = data.copy()\n",
    "data_svm = data_svm.loc[:,[\"COUNT\",\"QT_PAX_PAGANTE\"]]\n",
    "\n",
    "clf = svm.OneClassSVM(nu=0.1, kernel=\"rbf\", gamma=0.1)\n",
    "clf.fit(data_svm)"
   ]
  },
  {
   "cell_type": "code",
   "execution_count": 92,
   "metadata": {},
   "outputs": [
    {
     "name": "stdout",
     "output_type": "stream",
     "text": [
      "normal :   68\n",
      "outliners :  118\n"
     ]
    },
    {
     "data": {
      "image/png": "[encoded data removed]",
      "text/plain": [
       "<Figure size 432x288 with 1 Axes>"
      ]
     },
     "metadata": {},
     "output_type": "display_data"
    }
   ],
   "source": [
    "pred = clf.predict(data_svm)\n",
    "normal = data_svm[pred == 1]\n",
    "outliners = data_svm[pred == -1]\n",
    "\n",
    "print(\"normal :  \", normal.shape[0])\n",
    "print(\"outliners : \",outliners.shape[0])\n",
    "\n",
    "plt.figure()\n",
    "plt.plot(normal.COUNT,normal.QT_PAX_PAGANTE,'bx')\n",
    "plt.plot(abnormal.COUNT,abnormal.QT_PAX_PAGANTE,'ro')\n",
    "plt.xlabel('X')\n",
    "plt.ylabel('Y')\n",
    "plt.show()"
   ]
  },
  {
   "cell_type": "code",
   "execution_count": null,
   "metadata": {
    "collapsed": true
   },
   "outputs": [],
   "source": []
  }
 ],
 "metadata": {
  "kernelspec": {
   "display_name": "Python 3",
   "language": "python",
   "name": "python3"
  },
  "language_info": {
   "codemirror_mode": {
    "name": "ipython",
    "version": 3
   },
   "file_extension": ".py",
   "mimetype": "text/x-python",
   "name": "python",
   "nbconvert_exporter": "python",
   "pygments_lexer": "ipython3",
   "version": "3.6.3"
  }
 },
 "nbformat": 4,
 "nbformat_minor": 2
}
